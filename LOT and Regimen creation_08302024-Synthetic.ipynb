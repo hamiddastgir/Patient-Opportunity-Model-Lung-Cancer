{
 "cells": [
  {
   "cell_type": "markdown",
   "id": "fe31b048-29cc-4046-9558-b6fbb67b23a8",
   "metadata": {},
   "source": [
    "# Dataset Handling"
   ]
  },
  {
   "cell_type": "markdown",
   "id": "093da611-7452-4e4c-9e45-8859991aee0a",
   "metadata": {},
   "source": [
    "#### Import Libraries"
   ]
  },
  {
   "cell_type": "code",
   "execution_count": 84,
   "id": "5fc03fe1-09d4-42bb-835a-3fc7c3a7de07",
   "metadata": {},
   "outputs": [],
   "source": [
    "import pandas as pd\n",
    "import numpy as np"
   ]
  },
  {
   "cell_type": "markdown",
   "id": "0ba587e5-8869-430e-8b21-af778b8bf2ff",
   "metadata": {},
   "source": [
    "#### Import Tables"
   ]
  },
  {
   "cell_type": "code",
   "execution_count": 85,
   "id": "8acf5c2a-1e50-4dd7-8c27-e0d2dd626a55",
   "metadata": {},
   "outputs": [],
   "source": [
    "claims_df = pd.read_csv(\"Merged Claims.csv\") # Claims Data\n",
    "product_code = pd.read_csv(\"Product Mapping.csv\") # Product Mapping Code\n",
    "procedure_code = pd.read_csv(\"Procedure Mapping.csv\",dtype='object') # Procedure Mapping Code\n",
    "product_category =  pd.read_csv(\"Product Category.csv\") # Product Category\n",
    "product_abbreviation =  pd.read_csv(\"Product Abbreviation.csv\") # Product Abbreviation\n",
    "mNSCLC_List = pd.read_csv('Synthetic mNSCLC Patients.csv') # mNSCLC Patient List\n",
    "claims_df['Transaction date'] = pd.to_datetime(claims_df['Transaction date'], format='%Y-%m-%d') # Converting date into datetime format"
   ]
  },
  {
   "cell_type": "code",
   "execution_count": 86,
   "id": "009d886b-7ed3-4423-9dbb-2c1f8494836b",
   "metadata": {},
   "outputs": [
    {
     "data": {
      "text/html": [
       "<div>\n",
       "<style scoped>\n",
       "    .dataframe tbody tr th:only-of-type {\n",
       "        vertical-align: middle;\n",
       "    }\n",
       "\n",
       "    .dataframe tbody tr th {\n",
       "        vertical-align: top;\n",
       "    }\n",
       "\n",
       "    .dataframe thead th {\n",
       "        text-align: right;\n",
       "    }\n",
       "</style>\n",
       "<table border=\"1\" class=\"dataframe\">\n",
       "  <thead>\n",
       "    <tr style=\"text-align: right;\">\n",
       "      <th></th>\n",
       "      <th>Pat_ID</th>\n",
       "      <th>HCP_ID</th>\n",
       "      <th>Claim ID</th>\n",
       "      <th>HCPCS_ code</th>\n",
       "      <th>Transaction date</th>\n",
       "      <th>Diagnosis 1</th>\n",
       "      <th>Diagnosis 2</th>\n",
       "      <th>Diagnosis 3</th>\n",
       "      <th>Diagnosis 4</th>\n",
       "    </tr>\n",
       "  </thead>\n",
       "  <tbody>\n",
       "    <tr>\n",
       "      <th>0</th>\n",
       "      <td>PATIENT_001</td>\n",
       "      <td>HCP_17</td>\n",
       "      <td>2803</td>\n",
       "      <td>J1004</td>\n",
       "      <td>2022-01-12</td>\n",
       "      <td>C34.11</td>\n",
       "      <td>C78</td>\n",
       "      <td>S45901S</td>\n",
       "      <td>NaN</td>\n",
       "    </tr>\n",
       "    <tr>\n",
       "      <th>1</th>\n",
       "      <td>PATIENT_001</td>\n",
       "      <td>HCP_17</td>\n",
       "      <td>6213</td>\n",
       "      <td>J1001</td>\n",
       "      <td>2022-01-12</td>\n",
       "      <td>C34.11</td>\n",
       "      <td>C78</td>\n",
       "      <td>S45901S</td>\n",
       "      <td>NaN</td>\n",
       "    </tr>\n",
       "    <tr>\n",
       "      <th>2</th>\n",
       "      <td>PATIENT_001</td>\n",
       "      <td>HCP_17</td>\n",
       "      <td>6867</td>\n",
       "      <td>J1001</td>\n",
       "      <td>2022-02-11</td>\n",
       "      <td>C34.11</td>\n",
       "      <td>C78</td>\n",
       "      <td>N981</td>\n",
       "      <td>NaN</td>\n",
       "    </tr>\n",
       "    <tr>\n",
       "      <th>3</th>\n",
       "      <td>PATIENT_001</td>\n",
       "      <td>HCP_17</td>\n",
       "      <td>5629</td>\n",
       "      <td>J1001</td>\n",
       "      <td>2022-03-08</td>\n",
       "      <td>C34.11</td>\n",
       "      <td>C78</td>\n",
       "      <td>S55091A</td>\n",
       "      <td>NaN</td>\n",
       "    </tr>\n",
       "    <tr>\n",
       "      <th>4</th>\n",
       "      <td>PATIENT_001</td>\n",
       "      <td>HCP_17</td>\n",
       "      <td>8726</td>\n",
       "      <td>J1001</td>\n",
       "      <td>2022-04-12</td>\n",
       "      <td>C34.11</td>\n",
       "      <td>C78</td>\n",
       "      <td>S45901S</td>\n",
       "      <td>NaN</td>\n",
       "    </tr>\n",
       "  </tbody>\n",
       "</table>\n",
       "</div>"
      ],
      "text/plain": [
       "        Pat_ID  HCP_ID  Claim ID HCPCS_ code Transaction date Diagnosis 1  \\\n",
       "0  PATIENT_001  HCP_17      2803       J1004       2022-01-12      C34.11   \n",
       "1  PATIENT_001  HCP_17      6213       J1001       2022-01-12      C34.11   \n",
       "2  PATIENT_001  HCP_17      6867       J1001       2022-02-11      C34.11   \n",
       "3  PATIENT_001  HCP_17      5629       J1001       2022-03-08      C34.11   \n",
       "4  PATIENT_001  HCP_17      8726       J1001       2022-04-12      C34.11   \n",
       "\n",
       "  Diagnosis 2 Diagnosis 3 Diagnosis 4  \n",
       "0         C78     S45901S         NaN  \n",
       "1         C78     S45901S         NaN  \n",
       "2         C78        N981         NaN  \n",
       "3         C78     S55091A         NaN  \n",
       "4         C78     S45901S         NaN  "
      ]
     },
     "execution_count": 86,
     "metadata": {},
     "output_type": "execute_result"
    }
   ],
   "source": [
    "claims_df.head()"
   ]
  },
  {
   "cell_type": "code",
   "execution_count": 87,
   "id": "31f2f7e0",
   "metadata": {},
   "outputs": [
    {
     "data": {
      "text/plain": [
       "<bound method Series.unique of 0       PATIENT_001\n",
       "1       PATIENT_001\n",
       "2       PATIENT_001\n",
       "3       PATIENT_001\n",
       "4       PATIENT_001\n",
       "           ...     \n",
       "5296    PATIENT_425\n",
       "5297    PATIENT_425\n",
       "5298    PATIENT_425\n",
       "5299    PATIENT_425\n",
       "5300    PATIENT_425\n",
       "Name: Pat_ID, Length: 5301, dtype: object>"
      ]
     },
     "execution_count": 87,
     "metadata": {},
     "output_type": "execute_result"
    }
   ],
   "source": [
    "claims_df['Pat_ID'].unique"
   ]
  },
  {
   "cell_type": "markdown",
   "id": "debea4b4-78a1-42b2-ae19-e749843c1d85",
   "metadata": {},
   "source": [
    "#### Visualize Table"
   ]
  },
  {
   "cell_type": "code",
   "execution_count": 88,
   "id": "e278f948-36de-47fb-9be3-1ccd205b351a",
   "metadata": {},
   "outputs": [
    {
     "data": {
      "text/html": [
       "<div>\n",
       "<style scoped>\n",
       "    .dataframe tbody tr th:only-of-type {\n",
       "        vertical-align: middle;\n",
       "    }\n",
       "\n",
       "    .dataframe tbody tr th {\n",
       "        vertical-align: top;\n",
       "    }\n",
       "\n",
       "    .dataframe thead th {\n",
       "        text-align: right;\n",
       "    }\n",
       "</style>\n",
       "<table border=\"1\" class=\"dataframe\">\n",
       "  <thead>\n",
       "    <tr style=\"text-align: right;\">\n",
       "      <th></th>\n",
       "      <th>Pat_ID</th>\n",
       "      <th>HCP_ID</th>\n",
       "      <th>Claim ID</th>\n",
       "      <th>HCPCS_ code</th>\n",
       "      <th>Transaction date</th>\n",
       "      <th>Diagnosis 1</th>\n",
       "      <th>Diagnosis 2</th>\n",
       "      <th>Diagnosis 3</th>\n",
       "      <th>Diagnosis 4</th>\n",
       "    </tr>\n",
       "  </thead>\n",
       "  <tbody>\n",
       "    <tr>\n",
       "      <th>0</th>\n",
       "      <td>PATIENT_001</td>\n",
       "      <td>HCP_17</td>\n",
       "      <td>2803</td>\n",
       "      <td>J1004</td>\n",
       "      <td>2022-01-12</td>\n",
       "      <td>C34.11</td>\n",
       "      <td>C78</td>\n",
       "      <td>S45901S</td>\n",
       "      <td>NaN</td>\n",
       "    </tr>\n",
       "    <tr>\n",
       "      <th>1</th>\n",
       "      <td>PATIENT_001</td>\n",
       "      <td>HCP_17</td>\n",
       "      <td>6213</td>\n",
       "      <td>J1001</td>\n",
       "      <td>2022-01-12</td>\n",
       "      <td>C34.11</td>\n",
       "      <td>C78</td>\n",
       "      <td>S45901S</td>\n",
       "      <td>NaN</td>\n",
       "    </tr>\n",
       "    <tr>\n",
       "      <th>2</th>\n",
       "      <td>PATIENT_001</td>\n",
       "      <td>HCP_17</td>\n",
       "      <td>6867</td>\n",
       "      <td>J1001</td>\n",
       "      <td>2022-02-11</td>\n",
       "      <td>C34.11</td>\n",
       "      <td>C78</td>\n",
       "      <td>N981</td>\n",
       "      <td>NaN</td>\n",
       "    </tr>\n",
       "    <tr>\n",
       "      <th>3</th>\n",
       "      <td>PATIENT_001</td>\n",
       "      <td>HCP_17</td>\n",
       "      <td>5629</td>\n",
       "      <td>J1001</td>\n",
       "      <td>2022-03-08</td>\n",
       "      <td>C34.11</td>\n",
       "      <td>C78</td>\n",
       "      <td>S55091A</td>\n",
       "      <td>NaN</td>\n",
       "    </tr>\n",
       "    <tr>\n",
       "      <th>4</th>\n",
       "      <td>PATIENT_001</td>\n",
       "      <td>HCP_17</td>\n",
       "      <td>8726</td>\n",
       "      <td>J1001</td>\n",
       "      <td>2022-04-12</td>\n",
       "      <td>C34.11</td>\n",
       "      <td>C78</td>\n",
       "      <td>S45901S</td>\n",
       "      <td>NaN</td>\n",
       "    </tr>\n",
       "  </tbody>\n",
       "</table>\n",
       "</div>"
      ],
      "text/plain": [
       "        Pat_ID  HCP_ID  Claim ID HCPCS_ code Transaction date Diagnosis 1  \\\n",
       "0  PATIENT_001  HCP_17      2803       J1004       2022-01-12      C34.11   \n",
       "1  PATIENT_001  HCP_17      6213       J1001       2022-01-12      C34.11   \n",
       "2  PATIENT_001  HCP_17      6867       J1001       2022-02-11      C34.11   \n",
       "3  PATIENT_001  HCP_17      5629       J1001       2022-03-08      C34.11   \n",
       "4  PATIENT_001  HCP_17      8726       J1001       2022-04-12      C34.11   \n",
       "\n",
       "  Diagnosis 2 Diagnosis 3 Diagnosis 4  \n",
       "0         C78     S45901S         NaN  \n",
       "1         C78     S45901S         NaN  \n",
       "2         C78        N981         NaN  \n",
       "3         C78     S55091A         NaN  \n",
       "4         C78     S45901S         NaN  "
      ]
     },
     "execution_count": 88,
     "metadata": {},
     "output_type": "execute_result"
    }
   ],
   "source": [
    "claims_df.head()"
   ]
  },
  {
   "cell_type": "code",
   "execution_count": 89,
   "id": "699b63f0-c4f3-4219-a0b0-386fa76bb74c",
   "metadata": {},
   "outputs": [
    {
     "data": {
      "text/html": [
       "<div>\n",
       "<style scoped>\n",
       "    .dataframe tbody tr th:only-of-type {\n",
       "        vertical-align: middle;\n",
       "    }\n",
       "\n",
       "    .dataframe tbody tr th {\n",
       "        vertical-align: top;\n",
       "    }\n",
       "\n",
       "    .dataframe thead th {\n",
       "        text-align: right;\n",
       "    }\n",
       "</style>\n",
       "<table border=\"1\" class=\"dataframe\">\n",
       "  <thead>\n",
       "    <tr style=\"text-align: right;\">\n",
       "      <th></th>\n",
       "      <th>HCPCS_ code</th>\n",
       "      <th>Product Name</th>\n",
       "    </tr>\n",
       "  </thead>\n",
       "  <tbody>\n",
       "    <tr>\n",
       "      <th>0</th>\n",
       "      <td>J1001</td>\n",
       "      <td>Ticaprant</td>\n",
       "    </tr>\n",
       "    <tr>\n",
       "      <th>1</th>\n",
       "      <td>J1002</td>\n",
       "      <td>NOVmatinib</td>\n",
       "    </tr>\n",
       "    <tr>\n",
       "      <th>2</th>\n",
       "      <td>J1003</td>\n",
       "      <td>AZNertrib</td>\n",
       "    </tr>\n",
       "    <tr>\n",
       "      <th>3</th>\n",
       "      <td>J1004</td>\n",
       "      <td>BMSRizi</td>\n",
       "    </tr>\n",
       "    <tr>\n",
       "      <th>4</th>\n",
       "      <td>J2001</td>\n",
       "      <td>Pemetrexed</td>\n",
       "    </tr>\n",
       "  </tbody>\n",
       "</table>\n",
       "</div>"
      ],
      "text/plain": [
       "  HCPCS_ code Product Name\n",
       "0       J1001    Ticaprant\n",
       "1       J1002   NOVmatinib\n",
       "2       J1003    AZNertrib\n",
       "3       J1004      BMSRizi\n",
       "4       J2001   Pemetrexed"
      ]
     },
     "execution_count": 89,
     "metadata": {},
     "output_type": "execute_result"
    }
   ],
   "source": [
    "product_code.head()"
   ]
  },
  {
   "cell_type": "code",
   "execution_count": 90,
   "id": "b755eeb1-e07f-4bd4-a24b-66018dcd8c15",
   "metadata": {},
   "outputs": [
    {
     "data": {
      "text/html": [
       "<div>\n",
       "<style scoped>\n",
       "    .dataframe tbody tr th:only-of-type {\n",
       "        vertical-align: middle;\n",
       "    }\n",
       "\n",
       "    .dataframe tbody tr th {\n",
       "        vertical-align: top;\n",
       "    }\n",
       "\n",
       "    .dataframe thead th {\n",
       "        text-align: right;\n",
       "    }\n",
       "</style>\n",
       "<table border=\"1\" class=\"dataframe\">\n",
       "  <thead>\n",
       "    <tr style=\"text-align: right;\">\n",
       "      <th></th>\n",
       "      <th>HCPCS_ code</th>\n",
       "      <th>Procedure Name</th>\n",
       "    </tr>\n",
       "  </thead>\n",
       "  <tbody>\n",
       "    <tr>\n",
       "      <th>0</th>\n",
       "      <td>81235</td>\n",
       "      <td>EGFR test</td>\n",
       "    </tr>\n",
       "    <tr>\n",
       "      <th>1</th>\n",
       "      <td>78815</td>\n",
       "      <td>PET scan</td>\n",
       "    </tr>\n",
       "    <tr>\n",
       "      <th>2</th>\n",
       "      <td>70450</td>\n",
       "      <td>Brain MRI</td>\n",
       "    </tr>\n",
       "    <tr>\n",
       "      <th>3</th>\n",
       "      <td>70460</td>\n",
       "      <td>Brain MRI</td>\n",
       "    </tr>\n",
       "    <tr>\n",
       "      <th>4</th>\n",
       "      <td>70470</td>\n",
       "      <td>Brain MRI</td>\n",
       "    </tr>\n",
       "  </tbody>\n",
       "</table>\n",
       "</div>"
      ],
      "text/plain": [
       "  HCPCS_ code Procedure Name\n",
       "0       81235      EGFR test\n",
       "1       78815       PET scan\n",
       "2       70450      Brain MRI\n",
       "3       70460      Brain MRI\n",
       "4       70470      Brain MRI"
      ]
     },
     "execution_count": 90,
     "metadata": {},
     "output_type": "execute_result"
    }
   ],
   "source": [
    "procedure_code.head()"
   ]
  },
  {
   "cell_type": "code",
   "execution_count": 91,
   "id": "4c737264-5449-4fd4-b419-cf6c9e478e43",
   "metadata": {},
   "outputs": [
    {
     "data": {
      "text/html": [
       "<div>\n",
       "<style scoped>\n",
       "    .dataframe tbody tr th:only-of-type {\n",
       "        vertical-align: middle;\n",
       "    }\n",
       "\n",
       "    .dataframe tbody tr th {\n",
       "        vertical-align: top;\n",
       "    }\n",
       "\n",
       "    .dataframe thead th {\n",
       "        text-align: right;\n",
       "    }\n",
       "</style>\n",
       "<table border=\"1\" class=\"dataframe\">\n",
       "  <thead>\n",
       "    <tr style=\"text-align: right;\">\n",
       "      <th></th>\n",
       "      <th>Product Name</th>\n",
       "      <th>Product Abbreviation</th>\n",
       "    </tr>\n",
       "  </thead>\n",
       "  <tbody>\n",
       "    <tr>\n",
       "      <th>0</th>\n",
       "      <td>Ticaprant</td>\n",
       "      <td>TIC</td>\n",
       "    </tr>\n",
       "    <tr>\n",
       "      <th>1</th>\n",
       "      <td>NOVmatinib</td>\n",
       "      <td>NOV</td>\n",
       "    </tr>\n",
       "    <tr>\n",
       "      <th>2</th>\n",
       "      <td>AZNertrib</td>\n",
       "      <td>ERT</td>\n",
       "    </tr>\n",
       "    <tr>\n",
       "      <th>3</th>\n",
       "      <td>BMSRizi</td>\n",
       "      <td>RIZ</td>\n",
       "    </tr>\n",
       "  </tbody>\n",
       "</table>\n",
       "</div>"
      ],
      "text/plain": [
       "  Product Name Product Abbreviation\n",
       "0    Ticaprant                  TIC\n",
       "1   NOVmatinib                  NOV\n",
       "2    AZNertrib                  ERT\n",
       "3      BMSRizi                  RIZ"
      ]
     },
     "execution_count": 91,
     "metadata": {},
     "output_type": "execute_result"
    }
   ],
   "source": [
    "product_abbreviation.head()"
   ]
  },
  {
   "cell_type": "code",
   "execution_count": 92,
   "id": "c14345b4-ef0d-4650-bb50-1c3e35818d04",
   "metadata": {},
   "outputs": [
    {
     "data": {
      "text/html": [
       "<div>\n",
       "<style scoped>\n",
       "    .dataframe tbody tr th:only-of-type {\n",
       "        vertical-align: middle;\n",
       "    }\n",
       "\n",
       "    .dataframe tbody tr th {\n",
       "        vertical-align: top;\n",
       "    }\n",
       "\n",
       "    .dataframe thead th {\n",
       "        text-align: right;\n",
       "    }\n",
       "</style>\n",
       "<table border=\"1\" class=\"dataframe\">\n",
       "  <thead>\n",
       "    <tr style=\"text-align: right;\">\n",
       "      <th></th>\n",
       "      <th>mNSCLC_Patients</th>\n",
       "    </tr>\n",
       "  </thead>\n",
       "  <tbody>\n",
       "    <tr>\n",
       "      <th>0</th>\n",
       "      <td>PATIENT_001</td>\n",
       "    </tr>\n",
       "    <tr>\n",
       "      <th>1</th>\n",
       "      <td>PATIENT_002</td>\n",
       "    </tr>\n",
       "    <tr>\n",
       "      <th>2</th>\n",
       "      <td>PATIENT_003</td>\n",
       "    </tr>\n",
       "    <tr>\n",
       "      <th>3</th>\n",
       "      <td>PATIENT_004</td>\n",
       "    </tr>\n",
       "    <tr>\n",
       "      <th>4</th>\n",
       "      <td>PATIENT_005</td>\n",
       "    </tr>\n",
       "  </tbody>\n",
       "</table>\n",
       "</div>"
      ],
      "text/plain": [
       "  mNSCLC_Patients\n",
       "0     PATIENT_001\n",
       "1     PATIENT_002\n",
       "2     PATIENT_003\n",
       "3     PATIENT_004\n",
       "4     PATIENT_005"
      ]
     },
     "execution_count": 92,
     "metadata": {},
     "output_type": "execute_result"
    }
   ],
   "source": [
    "mNSCLC_List.head()"
   ]
  },
  {
   "cell_type": "markdown",
   "id": "b5e2e314-74da-478d-9c6e-ea641883b7c9",
   "metadata": {},
   "source": [
    "#### Joining Tables"
   ]
  },
  {
   "cell_type": "code",
   "execution_count": 93,
   "id": "ff84b8b6-5c55-4373-a84a-2d60b2e351c5",
   "metadata": {},
   "outputs": [
    {
     "data": {
      "text/html": [
       "<div>\n",
       "<style scoped>\n",
       "    .dataframe tbody tr th:only-of-type {\n",
       "        vertical-align: middle;\n",
       "    }\n",
       "\n",
       "    .dataframe tbody tr th {\n",
       "        vertical-align: top;\n",
       "    }\n",
       "\n",
       "    .dataframe thead th {\n",
       "        text-align: right;\n",
       "    }\n",
       "</style>\n",
       "<table border=\"1\" class=\"dataframe\">\n",
       "  <thead>\n",
       "    <tr style=\"text-align: right;\">\n",
       "      <th></th>\n",
       "      <th>Pat_ID</th>\n",
       "      <th>HCP_ID</th>\n",
       "      <th>Claim ID</th>\n",
       "      <th>HCPCS_ code</th>\n",
       "      <th>Transaction date</th>\n",
       "      <th>Diagnosis 1</th>\n",
       "      <th>Diagnosis 2</th>\n",
       "      <th>Diagnosis 3</th>\n",
       "      <th>Diagnosis 4</th>\n",
       "      <th>Product Name</th>\n",
       "      <th>Procedure Name</th>\n",
       "      <th>Product Category</th>\n",
       "      <th>Product Abbreviation</th>\n",
       "    </tr>\n",
       "  </thead>\n",
       "  <tbody>\n",
       "    <tr>\n",
       "      <th>0</th>\n",
       "      <td>PATIENT_001</td>\n",
       "      <td>HCP_17</td>\n",
       "      <td>2803</td>\n",
       "      <td>J1004</td>\n",
       "      <td>2022-01-12</td>\n",
       "      <td>C34.11</td>\n",
       "      <td>C78</td>\n",
       "      <td>S45901S</td>\n",
       "      <td>NaN</td>\n",
       "      <td>BMSRizi</td>\n",
       "      <td>NaN</td>\n",
       "      <td>Market Basket</td>\n",
       "      <td>RIZ</td>\n",
       "    </tr>\n",
       "    <tr>\n",
       "      <th>1</th>\n",
       "      <td>PATIENT_001</td>\n",
       "      <td>HCP_17</td>\n",
       "      <td>6213</td>\n",
       "      <td>J1001</td>\n",
       "      <td>2022-01-12</td>\n",
       "      <td>C34.11</td>\n",
       "      <td>C78</td>\n",
       "      <td>S45901S</td>\n",
       "      <td>NaN</td>\n",
       "      <td>Ticaprant</td>\n",
       "      <td>NaN</td>\n",
       "      <td>Market Basket</td>\n",
       "      <td>TIC</td>\n",
       "    </tr>\n",
       "    <tr>\n",
       "      <th>2</th>\n",
       "      <td>PATIENT_001</td>\n",
       "      <td>HCP_17</td>\n",
       "      <td>6867</td>\n",
       "      <td>J1001</td>\n",
       "      <td>2022-02-11</td>\n",
       "      <td>C34.11</td>\n",
       "      <td>C78</td>\n",
       "      <td>N981</td>\n",
       "      <td>NaN</td>\n",
       "      <td>Ticaprant</td>\n",
       "      <td>NaN</td>\n",
       "      <td>Market Basket</td>\n",
       "      <td>TIC</td>\n",
       "    </tr>\n",
       "    <tr>\n",
       "      <th>3</th>\n",
       "      <td>PATIENT_001</td>\n",
       "      <td>HCP_17</td>\n",
       "      <td>5629</td>\n",
       "      <td>J1001</td>\n",
       "      <td>2022-03-08</td>\n",
       "      <td>C34.11</td>\n",
       "      <td>C78</td>\n",
       "      <td>S55091A</td>\n",
       "      <td>NaN</td>\n",
       "      <td>Ticaprant</td>\n",
       "      <td>NaN</td>\n",
       "      <td>Market Basket</td>\n",
       "      <td>TIC</td>\n",
       "    </tr>\n",
       "    <tr>\n",
       "      <th>4</th>\n",
       "      <td>PATIENT_001</td>\n",
       "      <td>HCP_17</td>\n",
       "      <td>8726</td>\n",
       "      <td>J1001</td>\n",
       "      <td>2022-04-12</td>\n",
       "      <td>C34.11</td>\n",
       "      <td>C78</td>\n",
       "      <td>S45901S</td>\n",
       "      <td>NaN</td>\n",
       "      <td>Ticaprant</td>\n",
       "      <td>NaN</td>\n",
       "      <td>Market Basket</td>\n",
       "      <td>TIC</td>\n",
       "    </tr>\n",
       "  </tbody>\n",
       "</table>\n",
       "</div>"
      ],
      "text/plain": [
       "        Pat_ID  HCP_ID  Claim ID HCPCS_ code Transaction date Diagnosis 1  \\\n",
       "0  PATIENT_001  HCP_17      2803       J1004       2022-01-12      C34.11   \n",
       "1  PATIENT_001  HCP_17      6213       J1001       2022-01-12      C34.11   \n",
       "2  PATIENT_001  HCP_17      6867       J1001       2022-02-11      C34.11   \n",
       "3  PATIENT_001  HCP_17      5629       J1001       2022-03-08      C34.11   \n",
       "4  PATIENT_001  HCP_17      8726       J1001       2022-04-12      C34.11   \n",
       "\n",
       "  Diagnosis 2 Diagnosis 3 Diagnosis 4 Product Name Procedure Name  \\\n",
       "0         C78     S45901S         NaN      BMSRizi            NaN   \n",
       "1         C78     S45901S         NaN    Ticaprant            NaN   \n",
       "2         C78        N981         NaN    Ticaprant            NaN   \n",
       "3         C78     S55091A         NaN    Ticaprant            NaN   \n",
       "4         C78     S45901S         NaN    Ticaprant            NaN   \n",
       "\n",
       "  Product Category Product Abbreviation  \n",
       "0    Market Basket                  RIZ  \n",
       "1    Market Basket                  TIC  \n",
       "2    Market Basket                  TIC  \n",
       "3    Market Basket                  TIC  \n",
       "4    Market Basket                  TIC  "
      ]
     },
     "execution_count": 93,
     "metadata": {},
     "output_type": "execute_result"
    }
   ],
   "source": [
    "mapped_df = pd.merge(pd.merge(pd.merge(pd.merge(claims_df,product_code, how = 'left', on = 'HCPCS_ code'),procedure_code, how = 'left', on = 'HCPCS_ code'),product_category, how = 'left', on = 'Product Name'), product_abbreviation, how = 'left', on = 'Product Name')\n",
    "mapped_df.head()"
   ]
  },
  {
   "cell_type": "markdown",
   "id": "98346031-8db7-4b05-8dd3-d09cdbf402f5",
   "metadata": {},
   "source": [
    "#### Dataset Prepration (Reference to Patient Cohort Analysis)"
   ]
  },
  {
   "cell_type": "code",
   "execution_count": 94,
   "id": "c60c5699-7d55-4e7e-b0a3-74c7270afa84",
   "metadata": {},
   "outputs": [],
   "source": [
    "# NSCLC Patients\n",
    "mNSCLC_list = mNSCLC_List['mNSCLC_Patients'].tolist()\n",
    "mNSCLC_patients = mapped_df[mapped_df['Pat_ID'].isin(mNSCLC_list)]\n",
    "\n",
    "# Market Basket mNSCLC Patients\n",
    "#market_mNSCLC_pat = mNSCLC_patients[mNSCLC_patients['Product Category'] == 'Market Basket']"
   ]
  },
  {
   "cell_type": "code",
   "execution_count": 95,
   "id": "6e710acb-0d5d-4f04-8188-28b3a4c8a449",
   "metadata": {},
   "outputs": [],
   "source": [
    "raw_df = mNSCLC_patients"
   ]
  },
  {
   "cell_type": "markdown",
   "id": "db57ccca-ae8a-465c-b0a0-ca118783a531",
   "metadata": {},
   "source": [
    "#### Outlier Detection and Removal"
   ]
  },
  {
   "cell_type": "code",
   "execution_count": 96,
   "id": "73913753-6208-45d3-ba6d-486c541703b5",
   "metadata": {},
   "outputs": [
    {
     "data": {
      "text/plain": [
       "(5040, 13)"
      ]
     },
     "execution_count": 96,
     "metadata": {},
     "output_type": "execute_result"
    }
   ],
   "source": [
    "raw_df.shape"
   ]
  },
  {
   "cell_type": "code",
   "execution_count": 97,
   "id": "0766bde6-df71-4e01-9f54-f7f81c0b0004",
   "metadata": {},
   "outputs": [],
   "source": [
    "# Outlier Detection\n",
    "flag = raw_df.groupby(['Pat_ID','HCPCS_ code'])['HCPCS_ code'].agg(\n",
    "    flag = lambda x: x.count()\n",
    ")\n",
    "\n",
    "flagged_df = raw_df.merge(flag, how = 'left', on = ['Pat_ID','HCPCS_ code'])"
   ]
  },
  {
   "cell_type": "code",
   "execution_count": 98,
   "id": "189ce9d6",
   "metadata": {},
   "outputs": [
    {
     "data": {
      "text/html": [
       "<div>\n",
       "<style scoped>\n",
       "    .dataframe tbody tr th:only-of-type {\n",
       "        vertical-align: middle;\n",
       "    }\n",
       "\n",
       "    .dataframe tbody tr th {\n",
       "        vertical-align: top;\n",
       "    }\n",
       "\n",
       "    .dataframe thead th {\n",
       "        text-align: right;\n",
       "    }\n",
       "</style>\n",
       "<table border=\"1\" class=\"dataframe\">\n",
       "  <thead>\n",
       "    <tr style=\"text-align: right;\">\n",
       "      <th></th>\n",
       "      <th>Pat_ID</th>\n",
       "      <th>HCP_ID</th>\n",
       "      <th>Claim ID</th>\n",
       "      <th>HCPCS_ code</th>\n",
       "      <th>Transaction date</th>\n",
       "      <th>Diagnosis 1</th>\n",
       "      <th>Diagnosis 2</th>\n",
       "      <th>Diagnosis 3</th>\n",
       "      <th>Diagnosis 4</th>\n",
       "      <th>Product Name</th>\n",
       "      <th>Procedure Name</th>\n",
       "      <th>Product Category</th>\n",
       "      <th>Product Abbreviation</th>\n",
       "      <th>flag</th>\n",
       "    </tr>\n",
       "  </thead>\n",
       "  <tbody>\n",
       "    <tr>\n",
       "      <th>0</th>\n",
       "      <td>PATIENT_001</td>\n",
       "      <td>HCP_17</td>\n",
       "      <td>2803</td>\n",
       "      <td>J1004</td>\n",
       "      <td>2022-01-12</td>\n",
       "      <td>C34.11</td>\n",
       "      <td>C78</td>\n",
       "      <td>S45901S</td>\n",
       "      <td>NaN</td>\n",
       "      <td>BMSRizi</td>\n",
       "      <td>NaN</td>\n",
       "      <td>Market Basket</td>\n",
       "      <td>RIZ</td>\n",
       "      <td>3</td>\n",
       "    </tr>\n",
       "    <tr>\n",
       "      <th>1</th>\n",
       "      <td>PATIENT_001</td>\n",
       "      <td>HCP_17</td>\n",
       "      <td>6213</td>\n",
       "      <td>J1001</td>\n",
       "      <td>2022-01-12</td>\n",
       "      <td>C34.11</td>\n",
       "      <td>C78</td>\n",
       "      <td>S45901S</td>\n",
       "      <td>NaN</td>\n",
       "      <td>Ticaprant</td>\n",
       "      <td>NaN</td>\n",
       "      <td>Market Basket</td>\n",
       "      <td>TIC</td>\n",
       "      <td>7</td>\n",
       "    </tr>\n",
       "    <tr>\n",
       "      <th>2</th>\n",
       "      <td>PATIENT_001</td>\n",
       "      <td>HCP_17</td>\n",
       "      <td>6867</td>\n",
       "      <td>J1001</td>\n",
       "      <td>2022-02-11</td>\n",
       "      <td>C34.11</td>\n",
       "      <td>C78</td>\n",
       "      <td>N981</td>\n",
       "      <td>NaN</td>\n",
       "      <td>Ticaprant</td>\n",
       "      <td>NaN</td>\n",
       "      <td>Market Basket</td>\n",
       "      <td>TIC</td>\n",
       "      <td>7</td>\n",
       "    </tr>\n",
       "    <tr>\n",
       "      <th>3</th>\n",
       "      <td>PATIENT_001</td>\n",
       "      <td>HCP_17</td>\n",
       "      <td>5629</td>\n",
       "      <td>J1001</td>\n",
       "      <td>2022-03-08</td>\n",
       "      <td>C34.11</td>\n",
       "      <td>C78</td>\n",
       "      <td>S55091A</td>\n",
       "      <td>NaN</td>\n",
       "      <td>Ticaprant</td>\n",
       "      <td>NaN</td>\n",
       "      <td>Market Basket</td>\n",
       "      <td>TIC</td>\n",
       "      <td>7</td>\n",
       "    </tr>\n",
       "    <tr>\n",
       "      <th>4</th>\n",
       "      <td>PATIENT_001</td>\n",
       "      <td>HCP_17</td>\n",
       "      <td>8726</td>\n",
       "      <td>J1001</td>\n",
       "      <td>2022-04-12</td>\n",
       "      <td>C34.11</td>\n",
       "      <td>C78</td>\n",
       "      <td>S45901S</td>\n",
       "      <td>NaN</td>\n",
       "      <td>Ticaprant</td>\n",
       "      <td>NaN</td>\n",
       "      <td>Market Basket</td>\n",
       "      <td>TIC</td>\n",
       "      <td>7</td>\n",
       "    </tr>\n",
       "    <tr>\n",
       "      <th>...</th>\n",
       "      <td>...</td>\n",
       "      <td>...</td>\n",
       "      <td>...</td>\n",
       "      <td>...</td>\n",
       "      <td>...</td>\n",
       "      <td>...</td>\n",
       "      <td>...</td>\n",
       "      <td>...</td>\n",
       "      <td>...</td>\n",
       "      <td>...</td>\n",
       "      <td>...</td>\n",
       "      <td>...</td>\n",
       "      <td>...</td>\n",
       "      <td>...</td>\n",
       "    </tr>\n",
       "    <tr>\n",
       "      <th>5035</th>\n",
       "      <td>PATIENT_425</td>\n",
       "      <td>HCP_77</td>\n",
       "      <td>2467</td>\n",
       "      <td>70552</td>\n",
       "      <td>2022-08-18</td>\n",
       "      <td>C34.2</td>\n",
       "      <td>C78.4</td>\n",
       "      <td>NaN</td>\n",
       "      <td>NaN</td>\n",
       "      <td>NaN</td>\n",
       "      <td>Brain MRI</td>\n",
       "      <td>NaN</td>\n",
       "      <td>NaN</td>\n",
       "      <td>2</td>\n",
       "    </tr>\n",
       "    <tr>\n",
       "      <th>5036</th>\n",
       "      <td>PATIENT_425</td>\n",
       "      <td>HCP_77</td>\n",
       "      <td>2468</td>\n",
       "      <td>78815</td>\n",
       "      <td>2022-09-18</td>\n",
       "      <td>I10</td>\n",
       "      <td>C78.7</td>\n",
       "      <td>NaN</td>\n",
       "      <td>NaN</td>\n",
       "      <td>NaN</td>\n",
       "      <td>PET scan</td>\n",
       "      <td>NaN</td>\n",
       "      <td>NaN</td>\n",
       "      <td>1</td>\n",
       "    </tr>\n",
       "    <tr>\n",
       "      <th>5037</th>\n",
       "      <td>PATIENT_425</td>\n",
       "      <td>HCP_77</td>\n",
       "      <td>2469</td>\n",
       "      <td>81235</td>\n",
       "      <td>2022-10-04</td>\n",
       "      <td>C34.1</td>\n",
       "      <td>C78.3</td>\n",
       "      <td>NaN</td>\n",
       "      <td>NaN</td>\n",
       "      <td>NaN</td>\n",
       "      <td>EGFR test</td>\n",
       "      <td>NaN</td>\n",
       "      <td>NaN</td>\n",
       "      <td>1</td>\n",
       "    </tr>\n",
       "    <tr>\n",
       "      <th>5038</th>\n",
       "      <td>PATIENT_425</td>\n",
       "      <td>HCP_77</td>\n",
       "      <td>2470</td>\n",
       "      <td>70551</td>\n",
       "      <td>2022-06-05</td>\n",
       "      <td>C34.1</td>\n",
       "      <td>C78.8</td>\n",
       "      <td>NaN</td>\n",
       "      <td>NaN</td>\n",
       "      <td>NaN</td>\n",
       "      <td>Brain MRI</td>\n",
       "      <td>NaN</td>\n",
       "      <td>NaN</td>\n",
       "      <td>1</td>\n",
       "    </tr>\n",
       "    <tr>\n",
       "      <th>5039</th>\n",
       "      <td>PATIENT_425</td>\n",
       "      <td>HCP_77</td>\n",
       "      <td>2471</td>\n",
       "      <td>70450</td>\n",
       "      <td>2022-05-22</td>\n",
       "      <td>C34.8</td>\n",
       "      <td>75489</td>\n",
       "      <td>NaN</td>\n",
       "      <td>NaN</td>\n",
       "      <td>NaN</td>\n",
       "      <td>Brain MRI</td>\n",
       "      <td>NaN</td>\n",
       "      <td>NaN</td>\n",
       "      <td>1</td>\n",
       "    </tr>\n",
       "  </tbody>\n",
       "</table>\n",
       "<p>5040 rows × 14 columns</p>\n",
       "</div>"
      ],
      "text/plain": [
       "           Pat_ID  HCP_ID  Claim ID HCPCS_ code Transaction date Diagnosis 1  \\\n",
       "0     PATIENT_001  HCP_17      2803       J1004       2022-01-12      C34.11   \n",
       "1     PATIENT_001  HCP_17      6213       J1001       2022-01-12      C34.11   \n",
       "2     PATIENT_001  HCP_17      6867       J1001       2022-02-11      C34.11   \n",
       "3     PATIENT_001  HCP_17      5629       J1001       2022-03-08      C34.11   \n",
       "4     PATIENT_001  HCP_17      8726       J1001       2022-04-12      C34.11   \n",
       "...           ...     ...       ...         ...              ...         ...   \n",
       "5035  PATIENT_425  HCP_77      2467       70552       2022-08-18       C34.2   \n",
       "5036  PATIENT_425  HCP_77      2468       78815       2022-09-18         I10   \n",
       "5037  PATIENT_425  HCP_77      2469       81235       2022-10-04       C34.1   \n",
       "5038  PATIENT_425  HCP_77      2470       70551       2022-06-05       C34.1   \n",
       "5039  PATIENT_425  HCP_77      2471       70450       2022-05-22       C34.8   \n",
       "\n",
       "     Diagnosis 2 Diagnosis 3 Diagnosis 4 Product Name Procedure Name  \\\n",
       "0            C78     S45901S         NaN      BMSRizi            NaN   \n",
       "1            C78     S45901S         NaN    Ticaprant            NaN   \n",
       "2            C78        N981         NaN    Ticaprant            NaN   \n",
       "3            C78     S55091A         NaN    Ticaprant            NaN   \n",
       "4            C78     S45901S         NaN    Ticaprant            NaN   \n",
       "...          ...         ...         ...          ...            ...   \n",
       "5035       C78.4         NaN         NaN          NaN      Brain MRI   \n",
       "5036       C78.7         NaN         NaN          NaN       PET scan   \n",
       "5037       C78.3         NaN         NaN          NaN      EGFR test   \n",
       "5038       C78.8         NaN         NaN          NaN      Brain MRI   \n",
       "5039       75489         NaN         NaN          NaN      Brain MRI   \n",
       "\n",
       "     Product Category Product Abbreviation  flag  \n",
       "0       Market Basket                  RIZ     3  \n",
       "1       Market Basket                  TIC     7  \n",
       "2       Market Basket                  TIC     7  \n",
       "3       Market Basket                  TIC     7  \n",
       "4       Market Basket                  TIC     7  \n",
       "...               ...                  ...   ...  \n",
       "5035              NaN                  NaN     2  \n",
       "5036              NaN                  NaN     1  \n",
       "5037              NaN                  NaN     1  \n",
       "5038              NaN                  NaN     1  \n",
       "5039              NaN                  NaN     1  \n",
       "\n",
       "[5040 rows x 14 columns]"
      ]
     },
     "execution_count": 98,
     "metadata": {},
     "output_type": "execute_result"
    }
   ],
   "source": [
    "flagged_df"
   ]
  },
  {
   "cell_type": "code",
   "execution_count": 99,
   "id": "1ae89365-b6a2-4287-a5fa-0c1d845c74c5",
   "metadata": {},
   "outputs": [],
   "source": [
    "# Outlier Removal\n",
    "df = flagged_df[flagged_df['flag'] != 1]"
   ]
  },
  {
   "cell_type": "code",
   "execution_count": 100,
   "id": "9f4c98ff-d957-407b-b5ff-797ee08a0e0d",
   "metadata": {},
   "outputs": [
    {
     "data": {
      "text/plain": [
       "(3223, 14)"
      ]
     },
     "execution_count": 100,
     "metadata": {},
     "output_type": "execute_result"
    }
   ],
   "source": [
    "df.shape"
   ]
  },
  {
   "cell_type": "code",
   "execution_count": 101,
   "id": "b9f59a77",
   "metadata": {},
   "outputs": [
    {
     "data": {
      "text/plain": [
       "<bound method Series.unique of 0       PATIENT_001\n",
       "1       PATIENT_001\n",
       "2       PATIENT_001\n",
       "3       PATIENT_001\n",
       "4       PATIENT_001\n",
       "           ...     \n",
       "5296    PATIENT_425\n",
       "5297    PATIENT_425\n",
       "5298    PATIENT_425\n",
       "5299    PATIENT_425\n",
       "5300    PATIENT_425\n",
       "Name: Pat_ID, Length: 5040, dtype: object>"
      ]
     },
     "execution_count": 101,
     "metadata": {},
     "output_type": "execute_result"
    }
   ],
   "source": [
    "raw_df['Pat_ID'].unique"
   ]
  },
  {
   "cell_type": "markdown",
   "id": "3a483376-d643-45f0-861b-a0b23f755266",
   "metadata": {},
   "source": [
    "# Claims Data Processing"
   ]
  },
  {
   "cell_type": "markdown",
   "id": "36b0b983-d332-488e-b9dc-4ca769dc326b",
   "metadata": {},
   "source": [
    "#### Filter out year-month as a new column"
   ]
  },
  {
   "cell_type": "code",
   "execution_count": 102,
   "id": "0d143aeb-e74e-4e3b-801a-664e7c7a7aeb",
   "metadata": {},
   "outputs": [
    {
     "name": "stderr",
     "output_type": "stream",
     "text": [
      "/var/folders/sg/3tj_k0kn1315z20ckp9dznph0000gn/T/ipykernel_55794/2011112001.py:2: SettingWithCopyWarning: \n",
      "A value is trying to be set on a copy of a slice from a DataFrame.\n",
      "Try using .loc[row_indexer,col_indexer] = value instead\n",
      "\n",
      "See the caveats in the documentation: https://pandas.pydata.org/pandas-docs/stable/user_guide/indexing.html#returning-a-view-versus-a-copy\n",
      "  df['YM'] = df['Transaction date'].apply(lambda x:x.strftime('%Y%m'))\n"
     ]
    }
   ],
   "source": [
    "# Filter out year-month\n",
    "df['YM'] = df['Transaction date'].apply(lambda x:x.strftime('%Y%m'))"
   ]
  },
  {
   "cell_type": "markdown",
   "id": "d8db8564-99f2-4fbe-9c6d-5bdb3e0543a1",
   "metadata": {},
   "source": [
    "#### Calculation of Gap"
   ]
  },
  {
   "cell_type": "code",
   "execution_count": 70,
   "id": "b39f1057-19de-4fc9-9f0b-01c26ead0339",
   "metadata": {},
   "outputs": [
    {
     "data": {
      "text/plain": [
       "\"# Calculation of Gap\\ngrouped = df.groupby('Transaction date')\\ndf_sorted = grouped.apply(lambda x:x.sort_values(by='Transaction date')).reset_index(drop = True)\\ndf_sorted['Gap'] = df_sorted.groupby('Pat_ID')['Transaction date'].diff().fillna(pd.Timedelta(0)).dt.days\\ndf_with_gap = df_sorted\""
      ]
     },
     "execution_count": 70,
     "metadata": {},
     "output_type": "execute_result"
    }
   ],
   "source": [
    "'''# Calculation of Gap\n",
    "grouped = df.groupby('Transaction date')\n",
    "df_sorted = grouped.apply(lambda x:x.sort_values(by='Transaction date')).reset_index(drop = True)\n",
    "df_sorted['Gap'] = df_sorted.groupby('Pat_ID')['Transaction date'].diff().fillna(pd.Timedelta(0)).dt.days\n",
    "df_with_gap = df_sorted'''"
   ]
  },
  {
   "cell_type": "code",
   "execution_count": 103,
   "id": "42059111",
   "metadata": {},
   "outputs": [],
   "source": [
    "df_sorted = df.sort_values(by=['Pat_ID', 'Transaction date']).reset_index(drop=True)\n",
    "df_sorted['Gap'] = df_sorted.groupby('Pat_ID')['Transaction date'].diff().fillna(pd.Timedelta(0)).dt.days\n",
    "df_with_gap = df_sorted"
   ]
  },
  {
   "cell_type": "markdown",
   "id": "3594b169-5b19-4fa4-a102-47f9d93b61fb",
   "metadata": {},
   "source": [
    "#### LOT Creation"
   ]
  },
  {
   "cell_type": "code",
   "execution_count": 112,
   "id": "2af6eb12-b837-4bb9-89dd-33a4f3b4ebb7",
   "metadata": {},
   "outputs": [
    {
     "name": "stderr",
     "output_type": "stream",
     "text": [
      "/var/folders/sg/3tj_k0kn1315z20ckp9dznph0000gn/T/ipykernel_55794/1075989800.py:14: FutureWarning: Not prepending group keys to the result index of transform-like apply. In the future, the group keys will be included in the index, regardless of whether the applied function returns a like-indexed object.\n",
      "To preserve the previous behavior, use\n",
      "\n",
      "\t>>> .groupby(..., group_keys=False)\n",
      "\n",
      "To adopt the future behavior and silence this warning, use \n",
      "\n",
      "\t>>> .groupby(..., group_keys=True)\n",
      "  df_with_LOT = df_with_gap.groupby('Pat_ID').apply(update_lot_number).reset_index(drop=True)\n"
     ]
    }
   ],
   "source": [
    "'''# Initialize the Lot Number\n",
    "df_with_gap['Lot number'] = 1\n",
    "\n",
    "# Function to update the 'Lot Number' based on the gap condition\n",
    "def update_lot_number(sub_df):\n",
    "    current_value = 1\n",
    "    for i in range(1, len(sub_df)):\n",
    "        if sub_df.iloc[i]['Gap'] > 60:\n",
    "            current_value += 1\n",
    "        sub_df.at[sub_df.index[i], 'Lot number'] = current_value\n",
    "    return sub_df\n",
    "\n",
    "# Apply the function to each group\n",
    "df_with_LOT = df_with_gap.groupby('Pat_ID').apply(update_lot_number).reset_index(drop=True)'''"
   ]
  },
  {
   "cell_type": "code",
   "execution_count": null,
   "id": "25d85a14",
   "metadata": {},
   "outputs": [],
   "source": [
    "# Initialize the Lot Number\n",
    "df_with_gap['Lot number'] = 1\n",
    "\n",
    "# Function to update the 'Lot Number' based on the gap condition\n",
    "def update_lot_number_limited(sub_df):\n",
    "    current_value = 1\n",
    "    for i in range(1, len(sub_df)):\n",
    "        if sub_df.iloc[i]['Gap'] > 60 and current_value < 2:  # Limit to 2 LoTs\n",
    "            current_value += 1\n",
    "        sub_df.at[sub_df.index[i], 'Lot number'] = current_value\n",
    "    return sub_df\n",
    "\n",
    "# Apply the function to each group\n",
    "df_with_LOT = df_with_gap.groupby('Pat_ID').apply(update_lot_number_limited).reset_index(drop=True)\n"
   ]
  },
  {
   "cell_type": "code",
   "execution_count": 113,
   "id": "323e102d",
   "metadata": {},
   "outputs": [
    {
     "data": {
      "text/plain": [
       "2    1928\n",
       "1     701\n",
       "3     550\n",
       "4      42\n",
       "5       2\n",
       "Name: Lot number, dtype: int64"
      ]
     },
     "execution_count": 113,
     "metadata": {},
     "output_type": "execute_result"
    }
   ],
   "source": [
    "df_with_LOT['Lot number'].value_counts()"
   ]
  },
  {
   "cell_type": "markdown",
   "id": "416ceef1-825a-4427-8892-8e4f0d4e09a5",
   "metadata": {},
   "source": [
    "#### Adding Date Feature\n",
    "- Start Date\n",
    "- End Date"
   ]
  },
  {
   "cell_type": "code",
   "execution_count": 73,
   "id": "80c28444-7a2a-470d-9dc9-09dd0f78aef4",
   "metadata": {},
   "outputs": [],
   "source": [
    "# Calculate start date and end date\n",
    "date_df = df_with_LOT.groupby(['Pat_ID','Lot number']).agg(\n",
    "                                        start_date = ('Transaction date','min'),\n",
    "                                        end_date = ('Transaction date','max')\n",
    ")\n",
    "\n",
    "# Restructure Date Format to mmddyyyy\n",
    "def convert_to_mmddyyyy(date):\n",
    "    return date.strftime('%m-%d-%Y')\n",
    "\n",
    "# Apply the function to the 'date' column\n",
    "date_df['start_date'] = date_df['start_date'].apply(convert_to_mmddyyyy)\n",
    "date_df['end_date'] = date_df['end_date'].apply(convert_to_mmddyyyy)\n",
    "df_with_LOT['Transaction date'] = df_with_LOT['Transaction date'].apply(convert_to_mmddyyyy)"
   ]
  },
  {
   "cell_type": "markdown",
   "id": "60ca402f-6211-414c-a741-65b198a25af9",
   "metadata": {},
   "source": [
    "#### Joining the date features to the main table"
   ]
  },
  {
   "cell_type": "code",
   "execution_count": 74,
   "id": "f405f267-6982-4c86-8e9a-12d133fd4333",
   "metadata": {},
   "outputs": [],
   "source": [
    "# Join the date columns to the main table\n",
    "merged_df_date = df_with_LOT.merge(date_df,how = 'left', on=['Pat_ID','Lot number'])"
   ]
  },
  {
   "cell_type": "markdown",
   "id": "da710d9d-36d7-47ba-8bba-0aa9941df460",
   "metadata": {},
   "source": [
    "#### Regimen Calculation"
   ]
  },
  {
   "cell_type": "code",
   "execution_count": 75,
   "id": "12d8c692-64b5-4287-aff4-9e70ed33da7b",
   "metadata": {},
   "outputs": [],
   "source": [
    "## Regimen Calculation\n",
    "df_regimen = merged_df_date.groupby(['Pat_ID','Lot number'])['Product Abbreviation'].apply(lambda x: '_'.join(sorted(set(x.dropna()), key = lambda prod:prod[0]))).reset_index()\n",
    "df_regimen.rename(columns={'Product Abbreviation':'Regimen'}, inplace=True)"
   ]
  },
  {
   "cell_type": "markdown",
   "id": "8dde93c6-0590-490e-9ad6-da2c8cc2981e",
   "metadata": {},
   "source": [
    "#### Joining Regimen table to the main table"
   ]
  },
  {
   "cell_type": "code",
   "execution_count": 76,
   "id": "f6332624-fb05-45fd-8dc3-980e3dd68d72",
   "metadata": {},
   "outputs": [],
   "source": [
    "# Join Regimen table to main table\n",
    "claim_level_data = merged_df_date.merge(df_regimen,how = 'left', on=['Pat_ID','Lot number'])"
   ]
  },
  {
   "cell_type": "markdown",
   "id": "221dbe37-dfa9-4c13-a629-f76e57570c4e",
   "metadata": {},
   "source": [
    "#### Saving File into CSV"
   ]
  },
  {
   "cell_type": "code",
   "execution_count": 77,
   "id": "47610ae5-f4ec-4319-a6fe-811f5c1e0f27",
   "metadata": {},
   "outputs": [],
   "source": [
    "# Saving File\n",
    "claim_level_data.to_csv(\"Synthetic claim_level_data.csv\", index = None)"
   ]
  },
  {
   "cell_type": "markdown",
   "id": "a699cc9f-e831-4dda-8c02-e3cc1b165ee3",
   "metadata": {},
   "source": [
    "# Patients x LOT level data Creation"
   ]
  },
  {
   "cell_type": "code",
   "execution_count": 78,
   "id": "32502398-63ec-490b-8bc8-2499b334de3d",
   "metadata": {},
   "outputs": [],
   "source": [
    "# LOT creation\n",
    "claim_count = claim_level_data.groupby(['Pat_ID','Lot number','HCP_ID','Regimen'])['HCPCS_ code'].agg(\n",
    "    claim_count = lambda x : x.count()\n",
    ")"
   ]
  },
  {
   "cell_type": "code",
   "execution_count": 79,
   "id": "a6bfe4c3-d142-44a6-a8d4-fb739c8d247f",
   "metadata": {},
   "outputs": [],
   "source": [
    "LOT_working_table = claim_level_data.groupby(['Pat_ID','Lot number','HCP_ID','Regimen']).agg(\n",
    "    start_date = ('start_date','min'),\n",
    "    end_date = ('end_date','max')\n",
    ")"
   ]
  },
  {
   "cell_type": "code",
   "execution_count": 80,
   "id": "0decb152-2afa-4d55-8b48-390bede46f70",
   "metadata": {},
   "outputs": [],
   "source": [
    "# Final LOT level data\n",
    "Patient_LOT_data = LOT_working_table.merge(claim_count, on = ['Pat_ID','Lot number','HCP_ID','Regimen'], how = 'left')"
   ]
  },
  {
   "cell_type": "code",
   "execution_count": 81,
   "id": "46b6ed10-8ad7-4831-9bd5-f26ba0140f4e",
   "metadata": {},
   "outputs": [],
   "source": [
    "# Saving file in csv\n",
    "Patient_LOT_data.to_csv(\"Synthetic Patient_LOT_data.csv\")"
   ]
  },
  {
   "cell_type": "code",
   "execution_count": null,
   "id": "7c50636b",
   "metadata": {},
   "outputs": [],
   "source": []
  }
 ],
 "metadata": {
  "kernelspec": {
   "display_name": "Python 3 (ipykernel)",
   "language": "python",
   "name": "python3"
  },
  "language_info": {
   "codemirror_mode": {
    "name": "ipython",
    "version": 3
   },
   "file_extension": ".py",
   "mimetype": "text/x-python",
   "name": "python",
   "nbconvert_exporter": "python",
   "pygments_lexer": "ipython3",
   "version": "3.12.7"
  }
 },
 "nbformat": 4,
 "nbformat_minor": 5
}
